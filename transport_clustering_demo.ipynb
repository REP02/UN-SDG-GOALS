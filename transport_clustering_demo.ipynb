{
 "cells": [
  {
   "cell_type": "markdown",
   "id": "2de45ab6",
   "metadata": {},
   "source": [
    "# Transport Clustering Demo (SDG 11)"
   ]
  },
  {
   "cell_type": "code",
   "execution_count": null,
   "id": "1c834ca7",
   "metadata": {},
   "outputs": [],
   "source": [
    "import pandas as pd\n",
    "stops = pd.read_csv('stops_dataset.csv')\n",
    "stops.head()"
   ]
  },
  {
   "cell_type": "code",
   "execution_count": null,
   "id": "8ca36250",
   "metadata": {},
   "outputs": [],
   "source": [
    "from sklearn.cluster import KMeans\n",
    "from sklearn.preprocessing import StandardScaler\n",
    "import numpy as np\n",
    "stops['log_passengers'] = np.log1p(stops['daily_passengers'])\n",
    "X = StandardScaler().fit_transform(stops[['x_coord','y_coord','log_passengers']])\n",
    "km = KMeans(n_clusters=4, random_state=42).fit(X)\n",
    "stops['cluster'] = km.labels_\n",
    "stops.groupby('cluster').agg(n_stops=('stop_id','count'), total_passengers=('daily_passengers','sum'))"
   ]
  }
 ],
 "metadata": {},
 "nbformat": 4,
 "nbformat_minor": 5
}
